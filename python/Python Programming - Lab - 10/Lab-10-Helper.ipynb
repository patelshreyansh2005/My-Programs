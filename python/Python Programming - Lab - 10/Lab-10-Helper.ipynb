{
 "cells": [
  {
   "cell_type": "markdown",
   "metadata": {
    "id": "sJl9GIC-LMQr"
   },
   "source": [
    "<a href='https://www.darshan.ac.in/'> <img src='https://www.darshan.ac.in/Content/media/DU_Logo.svg' width=\"250\" height=\"300\"/></a>\n",
    "<pre>\n",
    "<center><b><h1>Python Programming - 2101CS405</b></center>\n",
    "<center><b><h1>Lab - 10</b></center>    \n",
    "<pre>"
   ]
  },
  {
   "cell_type": "markdown",
   "metadata": {
    "id": "AM78boBeLMQw"
   },
   "source": [
    "# Modules"
   ]
  },
  {
   "cell_type": "markdown",
   "metadata": {
    "id": "R0c-Js2uLMQw"
   },
   "source": [
    "# A"
   ]
  },
  {
   "cell_type": "markdown",
   "metadata": {
    "id": "2P1QtyspLMQx"
   },
   "source": [
    "### 01) WAP to create Calculator module which defines functions like add, sub,mul and div. create another file that uses the Calculator module."
   ]
  },
  {
   "cell_type": "code",
   "execution_count": 8,
   "metadata": {
    "id": "c1FSkhnOLMQx"
   },
   "outputs": [
    {
     "name": "stdout",
     "output_type": "stream",
     "text": [
      "2\n"
     ]
    }
   ],
   "source": [
    "import Calculator as cl\n",
    "\n",
    "a = int(input(\"Enter number 1 : \"))\n",
    "op = input(\"Enter operation : \")\n",
    "b = int(input(\"Enter number 2 : \"))\n",
    "\n",
    "if op == '+':\n",
    "    print(cl.add(a,b))\n",
    "elif op == '-':\n",
    "    print(cl.sub(a,b))\n",
    "elif op == '*':\n",
    "    print(cl.mul(a,b))\n",
    "elif op == '/':\n",
    "    print(cl.div(a,b))\n",
    "else:\n",
    "    print(\"Invalid operation\")"
   ]
  },
  {
   "cell_type": "markdown",
   "metadata": {
    "id": "5LwBPN6QLMQy"
   },
   "source": [
    "### 02) WAP to Pick a random character from a given String."
   ]
  },
  {
   "cell_type": "code",
   "execution_count": 18,
   "metadata": {
    "colab": {
     "base_uri": "https://localhost:8080/"
    },
    "id": "L5-vtBrNLMQy",
    "outputId": "ff21fb99-295d-4334-c64c-ae87b49a0d7e"
   },
   "outputs": [
    {
     "name": "stdout",
     "output_type": "stream",
     "text": [
      "h\n"
     ]
    }
   ],
   "source": [
    "import random\n",
    "\n",
    "s = input(\"Enter a string : \")\n",
    "print(random.choice(s))"
   ]
  },
  {
   "cell_type": "markdown",
   "metadata": {
    "id": "DnVUJQ7wLMQy"
   },
   "source": [
    "### 03) WAP to Pick a random element from a given list."
   ]
  },
  {
   "cell_type": "code",
   "execution_count": 250,
   "metadata": {
    "colab": {
     "base_uri": "https://localhost:8080/"
    },
    "id": "khm8bc7fLMQz",
    "outputId": "27728b47-ae1a-4bd1-f7de-1e2f0d662e93"
   },
   "outputs": [
    {
     "name": "stdout",
     "output_type": "stream",
     "text": [
      "3\n"
     ]
    }
   ],
   "source": [
    "import random\n",
    "\n",
    "s = [1, 2, 3, 4, 5, 6, 7, 8, 9, 10]\n",
    "print(random.choice(s))"
   ]
  },
  {
   "cell_type": "markdown",
   "metadata": {
    "id": "VWouUT84LMQz"
   },
   "source": [
    "### 04) WAP to demonstrate the use of the math module."
   ]
  },
  {
   "cell_type": "code",
   "execution_count": 251,
   "metadata": {
    "colab": {
     "base_uri": "https://localhost:8080/"
    },
    "id": "weRozH2TLMQz",
    "outputId": "fb51a06b-57f6-4d4f-9b72-91cc243e4150"
   },
   "outputs": [
    {
     "name": "stdout",
     "output_type": "stream",
     "text": [
      "Value of pi: 3.141592653589793\n",
      "Value of e: 2.718281828459045\n",
      "Square root of 10: 3.1622776601683795\n",
      "Sine of 30 degrees: 0.49999999999999994\n",
      "Cosine of 45 degrees: 0.7071067811865476\n",
      "Tangent of 60 degrees: 1.7320508075688767\n",
      "Floor of 2.5: 2\n",
      "Ceiling of 3.2: 4\n",
      "Factorial of 5: 120\n",
      "Absolute value of -5: 5\n",
      "2 raised to the power of 3: 8\n",
      "Logarithm of 10 to the base 2: 3.321928094887362\n",
      "Natural logarithm of 10: 2.302585092994046\n",
      "Hyperbolic sine of 1: 1.1752011936438014\n",
      "Hyperbolic cosine of 1: 1.5430806348152437\n",
      "Hyperbolic tangent of 1: 0.7615941559557649\n",
      "Inverse hyperbolic sine of 1: 0.881373587019543\n",
      "Inverse hyperbolic cosine of 1: 0.0\n",
      "Inverse hyperbolic tangent of 0: 0.0\n"
     ]
    }
   ],
   "source": [
    "import math\n",
    "\n",
    "print(\"Value of pi:\", math.pi)\n",
    "print(\"Value of e:\", math.e)\n",
    "\n",
    "print(\"Square root of 10:\", math.sqrt(10))\n",
    "\n",
    "print(\"Sine of 30 degrees:\", math.sin(math.radians(30)))\n",
    "print(\"Cosine of 45 degrees:\", math.cos(math.radians(45)))\n",
    "print(\"Tangent of 60 degrees:\", math.tan(math.radians(60)))\n",
    "\n",
    "print(\"Floor of 2.5:\", math.floor(2.5))\n",
    "print(\"Ceiling of 3.2:\", math.ceil(3.2))\n",
    "\n",
    "print(\"Factorial of 5:\", math.factorial(5))\n",
    "\n",
    "print(\"Absolute value of -5:\", abs(-5))\n",
    "\n",
    "print(\"2 raised to the power of 3:\", 2**3)\n",
    "\n",
    "print(\"Logarithm of 10 to the base 2:\", math.log2(10))\n",
    "print(\"Natural logarithm of 10:\", math.log(10))\n",
    "\n",
    "print(\"Hyperbolic sine of 1:\", math.sinh(1))\n",
    "print(\"Hyperbolic cosine of 1:\", math.cosh(1))\n",
    "print(\"Hyperbolic tangent of 1:\", math.tanh(1))\n",
    "\n",
    "print(\"Inverse hyperbolic sine of 1:\", math.asinh(1))\n",
    "print(\"Inverse hyperbolic cosine of 1:\", math.acosh(1))\n",
    "print(\"Inverse hyperbolic tangent of 0:\", math.atanh(0))\n"
   ]
  },
  {
   "cell_type": "markdown",
   "metadata": {
    "id": "i-C7uIMTLMQz"
   },
   "source": [
    "### 05) WAP to demonstrate the use of date time module."
   ]
  },
  {
   "cell_type": "code",
   "execution_count": 284,
   "metadata": {
    "colab": {
     "base_uri": "https://localhost:8080/"
    },
    "id": "uhuwrEcMLMQ0",
    "outputId": "f9649c16-262e-4b76-d359-7a0740c5c550"
   },
   "outputs": [
    {
     "name": "stdout",
     "output_type": "stream",
     "text": [
      "Current date and time: 2024-02-20 08:52:44.449184\n",
      "Current time: 08:52:44.449184\n",
      "Current year: 2024\n",
      "Current month: 2\n",
      "Current day: 20\n",
      "Current hour: 8\n",
      "Current minute: 52\n",
      "Current second: 44\n",
      "Current microsecond: 449184\n",
      "Current timezone: UTC\n",
      "Current timestamp: 1708399364.449184\n",
      "Current UTC time: 2024-02-20 03:22:44.454189\n",
      "Current time in a specific format: 08:52:44\n"
     ]
    },
    {
     "name": "stderr",
     "output_type": "stream",
     "text": [
      "C:\\Users\\shrey\\AppData\\Local\\Temp\\ipykernel_16236\\1654581356.py:31: DeprecationWarning: datetime.datetime.utcnow() is deprecated and scheduled for removal in a future version. Use timezone-aware objects to represent datetimes in UTC: datetime.datetime.now(datetime.UTC).\n",
      "  print(\"Current UTC time:\",x.utcnow())\n"
     ]
    }
   ],
   "source": [
    "import datetime as dt\n",
    "\"\"\"Current date and time: 2024-02-06 06:54:19.910711\n",
    " 2024-02-06\n",
    " 06:54:19.913553\n",
    " 2024\n",
    "Current : 2\n",
    "Current : 6\n",
    "Current : 6\n",
    "Current : 54\n",
    "Current : 19\n",
    "Current : 917847\n",
    "Current : UTC\n",
    "Current : 1707202459.918025\n",
    "Current : 2024-02-06 06:54:19.918086\n",
    ": 2024-02-06 06:54:19\n",
    "Current time in a specific timezone: 2024-02-06 12:24:19\n",
    "Current time in a specific timezone using a specific format: Tue, 06 Feb 2024 12:24:19 UTC+05:30\n",
    "\"\"\"\n",
    "x = dt.datetime.now()\n",
    "print(\"Current date and time:\",x)\n",
    "print(\"Current time:\",x.time())\n",
    "print(\"Current year:\",x.year)\n",
    "print(\"Current month:\",x.month)\n",
    "print(\"Current day:\",x.day)\n",
    "print(\"Current hour:\",x.hour)\n",
    "print(\"Current minute:\",x.minute)\n",
    "print(\"Current second:\",x.second)\n",
    "print(\"Current microsecond:\",x.microsecond)\n",
    "print(\"Current timezone:\",dt.timezone.utc)\n",
    "print(\"Current timestamp:\",x.timestamp())\n",
    "print(\"Current UTC time:\",x.utcnow())\n",
    "print(\"Current time in a specific format:\",x.strftime(\"%H:%M:%S\"))"
   ]
  },
  {
   "cell_type": "markdown",
   "metadata": {
    "id": "cWSYdh9ILMQ0"
   },
   "source": [
    "# B"
   ]
  },
  {
   "cell_type": "markdown",
   "metadata": {
    "id": "X2D__KOCLMQ0"
   },
   "source": [
    "### 01) WAP to Roll dice in such a way that every time you get the same number."
   ]
  },
  {
   "cell_type": "code",
   "execution_count": 307,
   "metadata": {
    "colab": {
     "base_uri": "https://localhost:8080/"
    },
    "id": "q1b9fFILLMQ0",
    "outputId": "312474c6-28fe-4d34-c26b-1dc7e564dba5"
   },
   "outputs": [
    {
     "name": "stdout",
     "output_type": "stream",
     "text": [
      "2\n",
      "5\n"
     ]
    }
   ],
   "source": [
    "import random\n",
    "\n",
    "random.seed(1)\n",
    "print(random.randint(1,6))\n",
    "print(random.randint(1,6))\n"
   ]
  },
  {
   "cell_type": "markdown",
   "metadata": {
    "id": "J7HFPU1kLMQ0"
   },
   "source": [
    "### 02) WAP to generate 3 random integers between 100 and 999 which is divisible by 5."
   ]
  },
  {
   "cell_type": "code",
   "execution_count": 500,
   "metadata": {
    "colab": {
     "base_uri": "https://localhost:8080/"
    },
    "id": "IKP0ej0cLMQ0",
    "outputId": "fb2f01ce-1491-4465-efd7-b8f388f05091"
   },
   "outputs": [
    {
     "name": "stdout",
     "output_type": "stream",
     "text": [
      "535\n"
     ]
    }
   ],
   "source": [
    "import random\n",
    "\n",
    "print(random.randrange(100,999,5))"
   ]
  },
  {
   "cell_type": "markdown",
   "metadata": {
    "id": "oOBh6wmxLMQ1"
   },
   "source": [
    "### 03) WAP to generate 100 random lottery tickets and pick two lucky tickets from it as a winner."
   ]
  },
  {
   "cell_type": "code",
   "execution_count": 520,
   "metadata": {
    "colab": {
     "base_uri": "https://localhost:8080/"
    },
    "id": "XQ5IdX0uLMQ1",
    "outputId": "6a94c6f0-54be-4ec3-9ff8-00a00d97d33e"
   },
   "outputs": [
    {
     "name": "stdout",
     "output_type": "stream",
     "text": [
      "Winning tickets ( 6 digit nunbers only ):  [177770, 256271]\n"
     ]
    }
   ],
   "source": [
    "import random\n",
    "\n",
    "x = [random.randint(100000,999999) for x in range(0,100)]\n",
    "\n",
    "print(\"Winning tickets ( 6 digit nunbers only ): \",[random.choice(x) for i in range(0,2)])"
   ]
  },
  {
   "cell_type": "markdown",
   "metadata": {
    "id": "wWZvsIWILMQ1"
   },
   "source": [
    "### 04) WAP to print current date and time in Python."
   ]
  },
  {
   "cell_type": "code",
   "execution_count": 10,
   "metadata": {
    "colab": {
     "base_uri": "https://localhost:8080/"
    },
    "id": "DeValrE4LMQ1",
    "outputId": "cf43df8e-87e7-4224-92ed-d33af4f36345"
   },
   "outputs": [
    {
     "name": "stdout",
     "output_type": "stream",
     "text": [
      "2024-02-20 09:28:25.802194\n"
     ]
    }
   ],
   "source": [
    "import datetime\n",
    "\n",
    "print(datetime.datetime.now())"
   ]
  },
  {
   "cell_type": "markdown",
   "metadata": {
    "id": "11XxWxOcLMQ1"
   },
   "source": [
    "### 05) Subtract a week (7 days) from a given date in Python."
   ]
  },
  {
   "cell_type": "code",
   "execution_count": 530,
   "metadata": {
    "colab": {
     "base_uri": "https://localhost:8080/"
    },
    "id": "gmQjNjabLMQ1",
    "outputId": "12b92e7a-111d-4fb3-e867-775375f6eff2"
   },
   "outputs": [
    {
     "name": "stdout",
     "output_type": "stream",
     "text": [
      "2024-02-13 09:12:19.798788\n"
     ]
    }
   ],
   "source": [
    "from datetime import datetime, timedelta\n",
    "\n",
    "print(datetime.now()-timedelta(days=7))"
   ]
  },
  {
   "cell_type": "markdown",
   "metadata": {
    "id": "5uQbBI5zLMQ1"
   },
   "source": [
    "### 06) WAP to Calculate number of days between two given dates."
   ]
  },
  {
   "cell_type": "code",
   "execution_count": 1,
   "metadata": {
    "colab": {
     "base_uri": "https://localhost:8080/"
    },
    "id": "KXJlw4MJLMQ2",
    "outputId": "1e50a4a9-b5fd-41d0-9ff9-ec141b828a11"
   },
   "outputs": [
    {
     "name": "stdout",
     "output_type": "stream",
     "text": [
      "6938 days, 9:22:34.117164\n"
     ]
    }
   ],
   "source": [
    "from datetime import datetime\n",
    "\n",
    "print(datetime.now()-datetime(2005,2,21))"
   ]
  },
  {
   "cell_type": "markdown",
   "metadata": {
    "id": "tVV977eRLMQ2"
   },
   "source": [
    "### 07) WAP to Find the day of the week of a given date."
   ]
  },
  {
   "cell_type": "code",
   "execution_count": 7,
   "metadata": {
    "colab": {
     "base_uri": "https://localhost:8080/"
    },
    "id": "_DbHslkvLMQ2",
    "outputId": "787b3e7d-6a05-4852-f3aa-dbce678f22e0"
   },
   "outputs": [
    {
     "name": "stdout",
     "output_type": "stream",
     "text": [
      "1\n"
     ]
    }
   ],
   "source": [
    "import datetime\n",
    "\n",
    "print(datetime.datetime.now().weekday())"
   ]
  }
 ],
 "metadata": {
  "colab": {
   "provenance": []
  },
  "kernelspec": {
   "display_name": "Python 3 (ipykernel)",
   "language": "python",
   "name": "python3"
  },
  "language_info": {
   "codemirror_mode": {
    "name": "ipython",
    "version": 3
   },
   "file_extension": ".py",
   "mimetype": "text/x-python",
   "name": "python",
   "nbconvert_exporter": "python",
   "pygments_lexer": "ipython3",
   "version": "3.12.1"
  }
 },
 "nbformat": 4,
 "nbformat_minor": 4
}
