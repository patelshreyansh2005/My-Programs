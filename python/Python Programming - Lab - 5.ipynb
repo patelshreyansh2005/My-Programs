{
 "cells": [
  {
   "cell_type": "markdown",
   "metadata": {},
   "source": [
    "\n",
    "<a href='https://www.darshan.ac.in/'> <img src='https://www.darshan.ac.in/Content/media/DU_Logo.svg' width=\"250\" height=\"300\"/></a>\n",
    "<pre>\n",
    "<center><b><h1>Python Programming - 2101CS405</b></center>\n",
    "<center><b><h1>Lab - 5</b></center>    \n",
    "<pre>"
   ]
  },
  {
   "cell_type": "markdown",
   "metadata": {},
   "source": [
    "# list"
   ]
  },
  {
   "cell_type": "markdown",
   "metadata": {},
   "source": [
    "### 01) WAP to find sum of all the elements in List."
   ]
  },
  {
   "cell_type": "code",
   "execution_count": 3,
   "metadata": {},
   "outputs": [
    {
     "name": "stdout",
     "output_type": "stream",
     "text": [
      "Enter '0' to exit\n",
      "sum of [1, 2, 3, 4, 5, 6, 7, 8, 9] is 45\n"
     ]
    }
   ],
   "source": [
    "myList = []\n",
    "sumOfElements = 0\n",
    "n=1\n",
    "print(\"Enter '0' to exit\")\n",
    "while(True):\n",
    "   n=int(input(\"Enter an number : \"))\n",
    "   sumOfElements+=n\n",
    "   if n!=0:\n",
    "       myList.append(n)\n",
    "   else:\n",
    "        break\n",
    "print(f\"sum of {myList} is {sumOfElements}\")"
   ]
  },
  {
   "cell_type": "markdown",
   "metadata": {},
   "source": [
    "### 02) WAP to find largest element in a List."
   ]
  },
  {
   "cell_type": "code",
   "execution_count": 9,
   "metadata": {},
   "outputs": [
    {
     "name": "stdout",
     "output_type": "stream",
     "text": [
      "21 is biggest in [1, 5, 21, 21, 1, 0, 2, 3]\n"
     ]
    }
   ],
   "source": [
    "myList = [1,5,21,21,1,0,2,3]\n",
    "i = myList[0]\n",
    "for e in myList:\n",
    "    i = i if i>=e else e\n",
    "print(f\"{i} is biggest in {myList}\")"
   ]
  },
  {
   "cell_type": "markdown",
   "metadata": {},
   "source": [
    "### 03) WAP to split the List into two and append the first part to the end."
   ]
  },
  {
   "cell_type": "code",
   "execution_count": 17,
   "metadata": {},
   "outputs": [
    {
     "name": "stdout",
     "output_type": "stream",
     "text": [
      "[3, 4, 5, 6, 7, 8, 9, 0, 1, 2]\n"
     ]
    }
   ],
   "source": [
    "myList = [0,1,2,3,4,5,6,7,8,9]\n",
    "i = int(input(\"Enter index : \"))\n",
    "newList = myList[i::]\n",
    "newList += myList[:i:]\n",
    "print(newList)"
   ]
  },
  {
   "cell_type": "markdown",
   "metadata": {},
   "source": [
    "### 04) WAP to interchange first and last elements in list entered by a user."
   ]
  },
  {
   "cell_type": "code",
   "execution_count": 18,
   "metadata": {},
   "outputs": [
    {
     "name": "stdout",
     "output_type": "stream",
     "text": [
      "[4, 1, 2, 3, 0]\n"
     ]
    }
   ],
   "source": [
    "myList = [0,1,2,3,4]\n",
    "i = myList[0]\n",
    "myList[0] = myList[-1]\n",
    "myList[-1] = i\n",
    "print(myList)"
   ]
  },
  {
   "cell_type": "markdown",
   "metadata": {},
   "source": [
    "### 05) WAP to interchange the elements on two positions entered by a user."
   ]
  },
  {
   "cell_type": "code",
   "execution_count": 19,
   "metadata": {},
   "outputs": [
    {
     "name": "stdout",
     "output_type": "stream",
     "text": [
      "[0, 3, 2, 1, 4]\n"
     ]
    }
   ],
   "source": [
    "myList = [0,1,2,3,4]\n",
    "i = myList[1]\n",
    "myList[1] = myList[-2]\n",
    "myList[-2] = i\n",
    "print(myList)"
   ]
  },
  {
   "cell_type": "markdown",
   "metadata": {},
   "source": [
    "### 06) WAP to reverses the list entered by user."
   ]
  },
  {
   "cell_type": "code",
   "execution_count": 22,
   "metadata": {},
   "outputs": [
    {
     "name": "stdout",
     "output_type": "stream",
     "text": [
      "[5, 4, 3, 2, 1, 0]\n"
     ]
    }
   ],
   "source": [
    "myList = [0,1,2,3,4,5]\n",
    "revList = myList[::-1]\n",
    "print(revList)"
   ]
  },
  {
   "cell_type": "markdown",
   "metadata": {},
   "source": [
    "### 07) Python program to remove multiple elements from a list using list comprehension"
   ]
  },
  {
   "cell_type": "code",
   "execution_count": 23,
   "metadata": {},
   "outputs": [
    {
     "name": "stdout",
     "output_type": "stream",
     "text": [
      "[0, 1, 3, 6, 7, 9]\n"
     ]
    }
   ],
   "source": [
    "myList = [0,1,2,3,4,5,6,7,8,9]\n",
    "delList = [2,5,8,4]\n",
    "newList = [x for x in myList if x not in delList]\n",
    "print(newList)"
   ]
  },
  {
   "cell_type": "markdown",
   "metadata": {},
   "source": [
    "### 08) Create a list from the specified start to end index of another list."
   ]
  },
  {
   "cell_type": "code",
   "execution_count": 25,
   "metadata": {},
   "outputs": [
    {
     "name": "stdout",
     "output_type": "stream",
     "text": [
      "[2, 3, 4, 5]\n"
     ]
    }
   ],
   "source": [
    "myList = [0,1,2,3,4,5,6,7,8,9]\n",
    "newList = myList[int(input(\"Enter starting point : \")):int(input(\"Enter ending point : \")):]\n",
    "print(newList)"
   ]
  },
  {
   "cell_type": "markdown",
   "metadata": {},
   "source": [
    "### 09) Input comma separated elements, convert into list and print."
   ]
  },
  {
   "cell_type": "code",
   "execution_count": 26,
   "metadata": {},
   "outputs": [
    {
     "name": "stdout",
     "output_type": "stream",
     "text": [
      "['1', '2', '22555555', '5', '59846543132130.00111', '12', '3', '0']\n"
     ]
    }
   ],
   "source": [
    "s = input(\"Enter comma separated elements : \")\n",
    "myList = s.split(\",\")\n",
    "print(myList)"
   ]
  },
  {
   "cell_type": "markdown",
   "metadata": {},
   "source": [
    "### 01) WAP to count Even and Odd numbers in a List."
   ]
  },
  {
   "cell_type": "code",
   "execution_count": 27,
   "metadata": {},
   "outputs": [
    {
     "name": "stdout",
     "output_type": "stream",
     "text": [
      "Even numbers are 5\n",
      "Odd numbers are 5\n"
     ]
    }
   ],
   "source": [
    "myList = [0,1,2,3,4,5,6,7,8,9]\n",
    "o = 0\n",
    "e = 0\n",
    "for i in myList:\n",
    "    if i%2==0:\n",
    "        e+=1\n",
    "    o+=1\n",
    "o=o-e\n",
    "print(f\"Even numbers are {e}\\nOdd numbers are {o}\")"
   ]
  },
  {
   "cell_type": "markdown",
   "metadata": {},
   "source": [
    "### 02) Python program to find N largest and smallest elements from the list"
   ]
  },
  {
   "cell_type": "code",
   "execution_count": 5,
   "metadata": {},
   "outputs": [
    {
     "name": "stdout",
     "output_type": "stream",
     "text": [
      "[0, 3, 9, 30, 58, 155, 215, 244, 665, 121212]\n",
      "Max 2 elements are [0, 3]\n",
      "Min 8 elements are [121212, 665, 244, 215, 155, 58, 30, 9]\n"
     ]
    }
   ],
   "source": [
    "myList = [0,58,9,665,244,3,215,121212,155,30]\n",
    "myList.sort()\n",
    "n = int(input(\"Enter number of elements : \"))\n",
    "print(myList)\n",
    "print(f\"Max {n} elements are {myList[:n:]}\")\n",
    "print(f\"Min {len(myList)-n} elements are {myList[n::][::-1]}\")"
   ]
  },
  {
   "cell_type": "markdown",
   "metadata": {},
   "source": [
    "### 03) WAP to print duplicates from a list of integers"
   ]
  },
  {
   "cell_type": "code",
   "execution_count": 9,
   "metadata": {},
   "outputs": [
    {
     "name": "stdout",
     "output_type": "stream",
     "text": [
      "[2]\n"
     ]
    }
   ],
   "source": [
    "myList = [0,2,5,6,2]\n",
    "duplicatates = []\n",
    "for i in range(0,len(myList)):\n",
    "    if myList[i] in myList[i+1::]:\n",
    "        duplicatates.append(myList[i])\n",
    "print(duplicatates)"
   ]
  }
 ],
 "metadata": {
  "kernelspec": {
   "display_name": "Python 3 (ipykernel)",
   "language": "python",
   "name": "python3"
  },
  "language_info": {
   "codemirror_mode": {
    "name": "ipython",
    "version": 3
   },
   "file_extension": ".py",
   "mimetype": "text/x-python",
   "name": "python",
   "nbconvert_exporter": "python",
   "pygments_lexer": "ipython3",
   "version": "3.12.1"
  }
 },
 "nbformat": 4,
 "nbformat_minor": 4
}
