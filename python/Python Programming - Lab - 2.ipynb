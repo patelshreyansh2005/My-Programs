{
 "cells": [
  {
   "cell_type": "markdown",
   "metadata": {},
   "source": [
    "\n",
    "<a href='https://www.darshan.ac.in/'> <img src='https://www.darshan.ac.in/Content/media/DU_Logo.svg' width=\"250\" height=\"300\"/></a>\n",
    "<pre>\n",
    "<center><b><h1>Python Programming - 2101CS405</b></center>\n",
    "<center><b><h1>Lab - 2</b></center>    \n",
    "<pre>"
   ]
  },
  {
   "cell_type": "markdown",
   "metadata": {},
   "source": [
    "# if..else.."
   ]
  },
  {
   "cell_type": "markdown",
   "metadata": {},
   "source": [
    "### 01) WAP to check whether the given number is positive or negative."
   ]
  },
  {
   "cell_type": "code",
   "execution_count": 3,
   "metadata": {},
   "outputs": [
    {
     "name": "stdout",
     "output_type": "stream",
     "text": [
      "5  is positive\n"
     ]
    }
   ],
   "source": [
    "n = int(input(\"Enter Number : \"))\n",
    "if(n > 0):\n",
    "    print(n,\" is positive\")\n",
    "else:\n",
    "    print(n, \"is negative\")"
   ]
  },
  {
   "cell_type": "markdown",
   "metadata": {},
   "source": [
    "### 02) WAP to check whether the given number is odd or even"
   ]
  },
  {
   "cell_type": "code",
   "execution_count": 5,
   "metadata": {},
   "outputs": [
    {
     "name": "stdout",
     "output_type": "stream",
     "text": [
      "6  is Even\n"
     ]
    }
   ],
   "source": [
    "n = int(input(\"Enter Number : \"))\n",
    "if(n % 2 == 0):\n",
    "    print(n,\" is Even\")\n",
    "else:\n",
    "    print(n, \"is Odd\")\n"
   ]
  },
  {
   "cell_type": "markdown",
   "metadata": {},
   "source": [
    "### 03) WAP to find out largest number from given two numbers using simple if and ternary operator."
   ]
  },
  {
   "cell_type": "code",
   "execution_count": 13,
   "metadata": {},
   "outputs": [
    {
     "name": "stdout",
     "output_type": "stream",
     "text": [
      "6  is Bigger than  5\n",
      "6 is Bigger than 5\n"
     ]
    }
   ],
   "source": [
    "a = int(input(\"Enter Number1 : \"))\n",
    "b = int(input(\"Enter Number2 : \"))\n",
    "if(a > b):\n",
    "    print(a,\" is Bigger than \",b)\n",
    "else:\n",
    "    print(b,\" is Bigger than \",a)\n",
    "\n",
    "print((str(a) + \" is Bigger than \" + str(b)) if(a > b) else (str(b) + \" is Bigger than \" + str(a)))"
   ]
  },
  {
   "cell_type": "markdown",
   "metadata": {},
   "source": [
    "### 04) WAP to find out largest number from given three numbers."
   ]
  },
  {
   "cell_type": "code",
   "execution_count": 19,
   "metadata": {},
   "outputs": [
    {
     "name": "stdout",
     "output_type": "stream",
     "text": [
      "3 is Bigger\n"
     ]
    }
   ],
   "source": [
    "a = int(input(\"Enter Number1 : \"))\n",
    "b = int(input(\"Enter Number2 : \"))\n",
    "c = int(input(\"Enter Number3 : \"))\n",
    "print((str(a) + \" is Bigger\") if (a > b and a > c) else ((str(b) + \" is Bigger\") if (b > c) else (str(c) + \" is Bigger\")))"
   ]
  },
  {
   "cell_type": "markdown",
   "metadata": {},
   "source": [
    "### 05) WAP to check whether the given year is leap year or not.\n",
    "[If a year can be divisible by 4 but not divisible by 100 then it is leap year but if it is divisible by 400 then it is leap year]"
   ]
  },
  {
   "cell_type": "code",
   "execution_count": 24,
   "metadata": {},
   "outputs": [
    {
     "name": "stdout",
     "output_type": "stream",
     "text": [
      "4000  is leap year\n"
     ]
    }
   ],
   "source": [
    "y = int(input(\"Enter Year : \"))\n",
    "if((y % 4 == 0 and y % 100 != 0) or (y % 100 == 0 and y % 400 == 0)):\n",
    "    print(y, \" is leap year\")\n",
    "else:\n",
    "    print(y, \" is not leap year\")"
   ]
  },
  {
   "cell_type": "markdown",
   "metadata": {},
   "source": [
    "### 06) WAP in python to display the name of the day according to the number given by the user"
   ]
  },
  {
   "cell_type": "code",
   "execution_count": 4,
   "metadata": {},
   "outputs": [
    {
     "name": "stdout",
     "output_type": "stream",
     "text": [
      "Saturday\n"
     ]
    }
   ],
   "source": [
    "d = int(input(\"Enter Day Number : \"))\n",
    "d = d % 7;\n",
    "match d:\n",
    "    case 1:\n",
    "        print(\"Sunday\")\n",
    "    case 2:\n",
    "        print(\"Monday\")\n",
    "    case 3:\n",
    "        print(\"Tuesday\")\n",
    "    case 4:\n",
    "        print(\"Wednesday\")\n",
    "    case 5:\n",
    "        print(\"Thrsday\")\n",
    "    case 6:\n",
    "        print(\"Friday\")\n",
    "    case 0:\n",
    "        print(\"Saturday\")\n",
    "    case any:\n",
    "        print(\"Invalid\")\n"
   ]
  },
  {
   "cell_type": "markdown",
   "metadata": {},
   "source": [
    "### 07) WAP to implement simple calculator which performs (add,sub,mul,div) of two no. based on user input."
   ]
  },
  {
   "cell_type": "code",
   "execution_count": 10,
   "metadata": {},
   "outputs": [
    {
     "name": "stdout",
     "output_type": "stream",
     "text": [
      "5  /  6  =  0.8333333333333334\n"
     ]
    }
   ],
   "source": [
    "num1 = int(input(\"Enter Number1 : \"))\n",
    "op = input(\"choose operator : \")\n",
    "num2 = int(input(\"Enter Number2 : \"))\n",
    "\n",
    "if(op == \"+\"):\n",
    "    print(num1,\" + \",num2,\" = \",num1 + num2)\n",
    "elif(op == \"-\"):\n",
    "    print(num1,\" - \",num2,\" = \",num1 - num2)\n",
    "elif(op == \"*\"):\n",
    "    print(num1,\" * \",num2,\" = \",num1 * num2)\n",
    "elif(op == \"/\"):\n",
    "    if(num2 == 0):\n",
    "        print(\"Can not divide by zero\")\n",
    "    else:\n",
    "        print(num1,\" / \",num2,\" = \",num1 / num2)\n",
    "else:\n",
    "    print(\"Invalid operator\")"
   ]
  },
  {
   "cell_type": "markdown",
   "metadata": {},
   "source": [
    "### 08) WAP to calculate electricity bill based on following criteria. Which takes the unit from the user.\n",
    "a. First 1 to 50 units – Rs. 2.60/unit</br>\n",
    "b. Next 50 to 100 units – Rs. 3.25/unit</br>\n",
    "c. Next 100 to 200 units – Rs. 5.26/unit</br>\n",
    "d. above 200 units – Rs. 8.45/unit"
   ]
  },
  {
   "cell_type": "code",
   "execution_count": 16,
   "metadata": {},
   "outputs": [
    {
     "name": "stdout",
     "output_type": "stream",
     "text": [
      "bill :  1666.5\n"
     ]
    }
   ],
   "source": [
    "unit = int(input(\"Enter amount of unit : \"))\n",
    "bill = 0;\n",
    "if(unit < 51):\n",
    "    print(\"bill : \", unit * 2.60)\n",
    "elif(unit < 101):\n",
    "    print(\"bill : \", unit * 5.85)\n",
    "elif(unit < 201):\n",
    "    print(\"bill : \", unit * 11.11)\n",
    "else:\n",
    "    print(\"bill : \", unit * 19.56)"
   ]
  },
  {
   "cell_type": "markdown",
   "metadata": {},
   "source": [
    "### 01) WAP to read marks of five subjects. Calculate percentage and print class accordingly. \n",
    "Fail below 35 </br>\n",
    "Pass Class between 35 to 45 </br>\n",
    "Second Class</br>\n",
    "between 45 to 60</br>\n",
    "First Class between 60 to 70</br> \n",
    "Distinction if more than 70"
   ]
  },
  {
   "cell_type": "code",
   "execution_count": 2,
   "metadata": {},
   "outputs": [
    {
     "name": "stdout",
     "output_type": "stream",
     "text": [
      "Invalid\n",
      "Fail\n"
     ]
    }
   ],
   "source": [
    "import sys\n",
    "\n",
    "ps = int(input(\"Enter marks of maths : \"))\n",
    "if(ps < 0):\n",
    "    print(\"Invalid\")\n",
    "    exit(1);\n",
    "daa = int(input(\"Enter marks of maths : \"))\n",
    "if(daa < 0):\n",
    "    print(\"Invalid\")\n",
    "    exit(1);\n",
    "madf = int(input(\"Enter marks of maths : \"))\n",
    "if(madf < 0):\n",
    "    print(\"Invalid\")\n",
    "    exit(1);\n",
    "pyp = int(input(\"Enter marks of maths : \"))\n",
    "if(pyp < 0):\n",
    "    print(\"Invalid\")\n",
    "    exit(1);\n",
    "os = int(input(\"Enter marks of maths : \"))\n",
    "if(os < 0):\n",
    "    print(\"Invalid\")\n",
    "    exit(1);\n",
    "\n",
    "percentage = (ps + daa + madf + pyp + os) / 5;\n",
    "\n",
    "if(percentage < 35):\n",
    "    print(\"Fail\")\n",
    "elif(percentage < 45):\n",
    "    print(\"Second Class\")\n",
    "elif(percentage < 60):\n",
    "    print(\"First Class\")\n",
    "elif(percentage > 70):\n",
    "    print(\"Distinction\")\n",
    "else:\n",
    "    print(\"Invalid\")"
   ]
  },
  {
   "cell_type": "markdown",
   "metadata": {},
   "source": [
    "### 02) WAP to find out the Maximum and Minimum number from given 4 numbers."
   ]
  },
  {
   "cell_type": "code",
   "execution_count": 14,
   "metadata": {},
   "outputs": [
    {
     "name": "stdout",
     "output_type": "stream",
     "text": [
      "4  is bigger\n"
     ]
    }
   ],
   "source": [
    "a = int(input(\"Enter number1 : \"))\n",
    "b = int(input(\"Enter number2 : \"))\n",
    "c = int(input(\"Enter number3 : \"))\n",
    "d = int(input(\"Enter number4 : \"))\n",
    "if(a > b):\n",
    "    if(a > c):\n",
    "        if(a > d):\n",
    "            print(a,\" is bigger\")\n",
    "        else:\n",
    "            print(d,\" is bigger\")\n",
    "    else:\n",
    "        if(c > d):\n",
    "            print(c,\" is bigger\")\n",
    "        else:\n",
    "            print(d,\" is bigger\")\n",
    "else:\n",
    "    if(b > c):\n",
    "        if(b > d):\n",
    "            print(b,\" is bigger\")\n",
    "        else:\n",
    "            print(d,\" is bigger\")\n",
    "    else:\n",
    "        if(c > d):\n",
    "            print(c,\" is bigger\")\n",
    "        else:\n",
    "            print(d,\" is bigger\")"
   ]
  },
  {
   "cell_type": "markdown",
   "metadata": {},
   "source": [
    "### 03) WAP to input an integer number and check the last digit of number is even or odd."
   ]
  },
  {
   "cell_type": "code",
   "execution_count": 16,
   "metadata": {},
   "outputs": [
    {
     "name": "stdout",
     "output_type": "stream",
     "text": [
      "0  is even\n"
     ]
    }
   ],
   "source": [
    "n = int(input(\"Enter Number : \"))\n",
    "if((n % 10) % 2 == 0):\n",
    "    print(n % 10,\" is even\")\n",
    "else:\n",
    "    print(n % 10,\" is odd\")"
   ]
  },
  {
   "cell_type": "markdown",
   "metadata": {},
   "source": [
    "### 04) WAP to determine the roots of the equation ax2+bx+c=0."
   ]
  },
  {
   "cell_type": "code",
   "execution_count": 10,
   "metadata": {},
   "outputs": [
    {
     "name": "stdout",
     "output_type": "stream",
     "text": [
      "Root 1: -0.5949\n",
      "Root 2: -8.4051\n"
     ]
    }
   ],
   "source": [
    "a = float(input(\"Enter a: \"))\n",
    "b = float(input(\"Enter b: \"))\n",
    "c = float(input(\"Enter c: \"))\n",
    "\n",
    "print(f\"Root 1: {(-b + (b ** 2 - 4 * a * c) ** 0.5) / (2 * a):.4f}\")\n",
    "print(f\"Root 2: {(-b - (b ** 2 - 4 * a * c) ** 0.5) / (2 * a):.4f}\")"
   ]
  }
 ],
 "metadata": {
  "kernelspec": {
   "display_name": "Python 3 (ipykernel)",
   "language": "python",
   "name": "python3"
  },
  "language_info": {
   "codemirror_mode": {
    "name": "ipython",
    "version": 3
   },
   "file_extension": ".py",
   "mimetype": "text/x-python",
   "name": "python",
   "nbconvert_exporter": "python",
   "pygments_lexer": "ipython3",
   "version": "3.11.7"
  }
 },
 "nbformat": 4,
 "nbformat_minor": 4
}
