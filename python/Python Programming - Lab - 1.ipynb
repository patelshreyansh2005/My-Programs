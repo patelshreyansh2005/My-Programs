{
 "cells": [
  {
   "cell_type": "markdown",
   "metadata": {},
   "source": [
    "<a href='https://www.darshan.ac.in/'> <img src='https://www.darshan.ac.in/Content/media/DU_Logo.svg' width=\"250\" height=\"300\"/></a>\n",
    "<pre>\n",
    "<center><b><h1>Python Programming - 2101CS405</b></center>\n",
    "<center><b><h1>Lab - 1</b></center>    \n",
    "<pre>"
   ]
  },
  {
   "cell_type": "markdown",
   "metadata": {},
   "source": [
    "### 01) WAP to print “Hello World”"
   ]
  },
  {
   "cell_type": "code",
   "execution_count": null,
   "metadata": {},
   "outputs": [],
   "source": [
    "print(\"Hello World\")"
   ]
  },
  {
   "cell_type": "markdown",
   "metadata": {},
   "source": [
    "### 02) WAP to print your address i) using single print ii) using multiple print"
   ]
  },
  {
   "cell_type": "code",
   "execution_count": 3,
   "metadata": {},
   "outputs": [
    {
     "name": "stdout",
     "output_type": "stream",
     "text": [
      "i) using single print\n",
      "ii) using multiple print\n",
      "i) using single print\n",
      "ii) using multiple print\n"
     ]
    }
   ],
   "source": [
    "print(\"i) using single print\")\n",
    "print(\"ii) using multiple print\")\n",
    "print(\"i) using single print\\nii) using multiple print\")"
   ]
  },
  {
   "cell_type": "markdown",
   "metadata": {},
   "source": [
    "### 03) WAP to print addition of 2 numbers (without input function)"
   ]
  },
  {
   "cell_type": "code",
   "execution_count": 6,
   "metadata": {},
   "outputs": [
    {
     "name": "stdout",
     "output_type": "stream",
     "text": [
      "30 <class 'int'>\n"
     ]
    }
   ],
   "source": [
    "a = int(10);\n",
    "b = int(20);\n",
    "print(a+b,type(a+b))"
   ]
  },
  {
   "cell_type": "markdown",
   "metadata": {},
   "source": [
    "### 04) WAP to calculate and print average of 2 numbers (without input function)"
   ]
  },
  {
   "cell_type": "code",
   "execution_count": 7,
   "metadata": {},
   "outputs": [
    {
     "name": "stdout",
     "output_type": "stream",
     "text": [
      "15.0\n"
     ]
    }
   ],
   "source": [
    "print((a+b)/2)"
   ]
  },
  {
   "cell_type": "markdown",
   "metadata": {},
   "source": [
    "### 05) WAP to add two number entered by user."
   ]
  },
  {
   "cell_type": "code",
   "execution_count": 8,
   "metadata": {},
   "outputs": [
    {
     "name": "stdout",
     "output_type": "stream",
     "text": [
      "Enter number 1 : 1212\n",
      "Enter number 2 : 2121\n",
      "3333\n"
     ]
    }
   ],
   "source": [
    "a = int(input(\"Enter number 1 : \"))\n",
    "b = int(input(\"Enter number 2 : \"))\n",
    "print(a+b)"
   ]
  },
  {
   "cell_type": "markdown",
   "metadata": {},
   "source": [
    "### 06) WAP to calculate simple interest."
   ]
  },
  {
   "cell_type": "code",
   "execution_count": null,
   "metadata": {},
   "outputs": [],
   "source": [
    "a = int(input(\"Enter p : \"))\n",
    "b = int(input(\"Enter r : \"))\n",
    "a = int(input(\"Enter number 1 : \"))\n",
    "print(a+b)"
   ]
  },
  {
   "cell_type": "markdown",
   "metadata": {},
   "source": [
    "### 07) WAP Calculate Area and Circumfrence of Circle"
   ]
  },
  {
   "cell_type": "code",
   "execution_count": 11,
   "metadata": {},
   "outputs": [
    {
     "name": "stdout",
     "output_type": "stream",
     "text": [
      "Area =  78.53981633974483 \n",
      "Circumfrence =  31.41592653589793\n"
     ]
    }
   ],
   "source": [
    "import math\n",
    "r = int(input(\"Enter r : \"))\n",
    "print(\"Area = \",math.pi*r*r,\"\\nCircumfrence = \",2*math.pi*r)"
   ]
  },
  {
   "cell_type": "markdown",
   "metadata": {},
   "source": [
    "### 08) WAP to print Multiplication table of given number without using loops."
   ]
  },
  {
   "cell_type": "code",
   "execution_count": 26,
   "metadata": {},
   "outputs": [
    {
     "name": "stdout",
     "output_type": "stream",
     "text": [
      "10  x  1  =  10\n",
      "10  x  2  =  20\n",
      "10  x  3  =  30\n",
      "10  x  4  =  40\n",
      "10  x  5  =  50\n",
      "10  x  6  =  60\n",
      "10  x  7  =  70\n",
      "10  x  8  =  80\n",
      "10  x  9  =  90\n",
      "10  x  10  =  100\n"
     ]
    }
   ],
   "source": [
    "n = int(input(\"Enter number : \"))\n",
    "i = int(1);\n",
    "print(n,\" x \",i,\" = \",n * i)\n",
    "i = i + 1\n",
    "print(n,\" x \",i,\" = \",n * i)\n",
    "i = i + 1\n",
    "print(n,\" x \",i,\" = \",n * i)\n",
    "i = i + 1\n",
    "print(n,\" x \",i,\" = \",n * i)\n",
    "i = i + 1\n",
    "print(n,\" x \",i,\" = \",n * i)\n",
    "i = i + 1\n",
    "print(n,\" x \",i,\" = \",n * i)\n",
    "i = i + 1\n",
    "print(n,\" x \",i,\" = \",n * i)\n",
    "i = i + 1\n",
    "print(n,\" x \",i,\" = \",n * i)\n",
    "i = i + 1\n",
    "print(n,\" x \",i,\" = \",n * i)\n",
    "i = i + 1\n",
    "print(n,\" x \",i,\" = \",n * i)\n",
    "i = i + 1"
   ]
  },
  {
   "cell_type": "markdown",
   "metadata": {},
   "source": [
    "### 09) WAP to calculate Area of Triangle (hint: a = h * b * 0.5)"
   ]
  },
  {
   "cell_type": "code",
   "execution_count": 27,
   "metadata": {},
   "outputs": [
    {
     "name": "stdout",
     "output_type": "stream",
     "text": [
      "Area =  100.0\n"
     ]
    }
   ],
   "source": [
    "h = int(input(\"Enter h : \"))\n",
    "b = int(input(\"Enter b : \"))\n",
    "print(\"Area = \",h*b*0.5)"
   ]
  },
  {
   "cell_type": "markdown",
   "metadata": {},
   "source": [
    "### 10) WAP to convert degree to Fahrenheit and vice versa."
   ]
  },
  {
   "cell_type": "code",
   "execution_count": 40,
   "metadata": {},
   "outputs": [
    {
     "name": "stdout",
     "output_type": "stream",
     "text": [
      "-12.222222222222221\n"
     ]
    }
   ],
   "source": [
    "t = input(\"Enter t : \")\n",
    "if(t[-1:]=='c' or t[-1:]=='C'):\n",
    "    print((float(t[:len(t)-1]) * 9/5) + 32)\n",
    "else:\n",
    "    print(((float(t[:len(t)-1]) - 32) * 5/9))"
   ]
  },
  {
   "cell_type": "markdown",
   "metadata": {},
   "source": [
    "### 11) WAP to calculate total marks and Percentage."
   ]
  },
  {
   "cell_type": "code",
   "execution_count": 43,
   "metadata": {},
   "outputs": [
    {
     "name": "stdout",
     "output_type": "stream",
     "text": [
      "total =  120 percentage =  40.0\n"
     ]
    }
   ],
   "source": [
    "sub1 = int(input(\"sub1 : \"))\n",
    "sub2 = int(input(\"sub2 : \"))\n",
    "sub3 = int(input(\"sub3 : \"))\n",
    "print(\"total = \",sub1+sub2+sub3,\"percentage = \",((sub1+sub2+sub3)*100/300))"
   ]
  },
  {
   "cell_type": "markdown",
   "metadata": {},
   "source": [
    "### 12) Compute distance between two points taking input from the user (Pythagorean Theorem)."
   ]
  },
  {
   "cell_type": "code",
   "execution_count": 8,
   "metadata": {},
   "outputs": [
    {
     "name": "stdout",
     "output_type": "stream",
     "text": [
      "Distance between (9999, 9999) and (0, 0) is 14140.721410168577\n"
     ]
    }
   ],
   "source": [
    "x1 = int(input(\"x1 = \"))\n",
    "y1 = int(input(\"y1 = \"))\n",
    "x2 = int(input(\"x2 = \"))\n",
    "y2 = int(input(\"y2 = \"))\n",
    "print(f\"Distance between {x1, y1} and {x2, y2} is {((x2 - x1) ** 2 + (y2 - y1) ** 2) ** 0.5}\")"
   ]
  },
  {
   "cell_type": "markdown",
   "metadata": {},
   "source": [
    "### 13) WAP to convert seconds into hours, minutes & seconds and print in HH:MM:SS\n",
    "[e.g. 10000 seconds mean 2:46:40 (2 Hours, 46 Minutes, 40Seconds)]"
   ]
  },
  {
   "cell_type": "code",
   "execution_count": 12,
   "metadata": {},
   "outputs": [
    {
     "name": "stdout",
     "output_type": "stream",
     "text": [
      "1  :  1  :  5\n"
     ]
    }
   ],
   "source": [
    "seconds = int(input(\"Enter seconds : \"))\n",
    "minute = seconds // 60\n",
    "seconds = seconds % 60\n",
    "hour = minute // 60\n",
    "minute = minute % 60\n",
    "print(hour, \" : \", minute, \" : \", seconds)"
   ]
  },
  {
   "cell_type": "markdown",
   "metadata": {},
   "source": [
    "### 14) WAP to enter distance into kilometer and convert it into meter, feet,inches, and centimeter"
   ]
  },
  {
   "cell_type": "code",
   "execution_count": 27,
   "metadata": {},
   "outputs": [
    {
     "name": "stdout",
     "output_type": "stream",
     "text": [
      "999.0 meters : 2.4408400000000214 feet : 10.0 inches : 0.1999999999986013 centimeters\n"
     ]
    }
   ],
   "source": [
    "kilometer = float(input(\"Enter kilometer : \"))\n",
    "centimeter = kilometer * 100000\n",
    "inches = centimeter // 2.54\n",
    "centimeter = centimeter % 2.54\n",
    "feet = inches // 12\n",
    "inches = inches % 12\n",
    "meter = feet // 3.28084\n",
    "feet = feet % 3.28084\n",
    "print(f\"{meter} meters : {feet} feet : {inches} inches : {centimeter} centimeters\")"
   ]
  }
 ],
 "metadata": {
  "kernelspec": {
   "display_name": "Python 3 (ipykernel)",
   "language": "python",
   "name": "python3"
  },
  "language_info": {
   "codemirror_mode": {
    "name": "ipython",
    "version": 3
   },
   "file_extension": ".py",
   "mimetype": "text/x-python",
   "name": "python",
   "nbconvert_exporter": "python",
   "pygments_lexer": "ipython3",
   "version": "3.11.7"
  },
  "vscode": {
   "interpreter": {
    "hash": "31f2aee4e71d21fbe5cf8b01ff0e069b9275f58929596ceb00d14d90e3e16cd6"
   }
  }
 },
 "nbformat": 4,
 "nbformat_minor": 4
}
