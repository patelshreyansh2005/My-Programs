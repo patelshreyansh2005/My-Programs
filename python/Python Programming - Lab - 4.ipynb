{
 "cells": [
  {
   "cell_type": "markdown",
   "metadata": {},
   "source": [
    "\n",
    "<a href='https://www.darshan.ac.in/'> <img src='https://www.darshan.ac.in/Content/media/DU_Logo.svg' width=\"250\" height=\"300\"/></a>\n",
    "<pre>\n",
    "<center><b><h1>Python Programming - 2101CS405</b></center>\n",
    "<center><b><h1>Lab - 4</b></center>    \n",
    "<pre>"
   ]
  },
  {
   "cell_type": "markdown",
   "metadata": {},
   "source": [
    "# String"
   ]
  },
  {
   "cell_type": "code",
   "execution_count": 38,
   "metadata": {},
   "outputs": [
    {
     "name": "stdout",
     "output_type": "stream",
     "text": [
      "   darshan uniersity  +\n",
      "♥♥♥♥♥♥♥♥♥♥♥♥♥♥  darshan uniersity  ♥♥♥♥♥♥♥♥♥♥♥♥♥♥♥\n",
      "  darshan uniersity\n",
      "  darshan uniersity  ☻☻☻☻☻☻☻☻☻☻☻☻☻☻☻☻☻☻☻☻☻☻☻☻☻☻☻☻☻\n",
      "  darshan uniersity  \n",
      "  darshan uniersity  \n",
      "  DARSHAN UNIERSITY  \n",
      "  darshan uniersity  \n",
      "  Darshan Uniersity  \n",
      "False\n",
      "False\n",
      "True\n",
      "False\n",
      "False\n",
      "False\n",
      "False\n",
      "True\n",
      "False\n",
      "False\n",
      "False\n"
     ]
    }
   ],
   "source": [
    "s = \"  darshan uniersity  \"\n",
    "\n",
    "print(s.join(\" +\"))\n",
    "print(s.center(50,'♥'))\n",
    "print(s.rstrip())\n",
    "print(s.ljust(50,'☻'))\n",
    "print(s.capitalize())\n",
    "print(s.casefold())\n",
    "print(s.upper())\n",
    "print(s.lower())\n",
    "print(s.title())\n",
    "print(s.isalnum())\n",
    "print(s.isalpha())\n",
    "print(s.isascii())\n",
    "print(s.isdecimal())\n",
    "print(s.isidentifier())\n",
    "print(s.isdigit())\n",
    "print(s.isnumeric())\n",
    "print(s.islower())\n",
    "print(s.istitle())\n",
    "print(s.isspace())\n",
    "print(s.isupper())"
   ]
  },
  {
   "cell_type": "markdown",
   "metadata": {},
   "source": [
    "### 01) WAP to check given string is palindrome or not."
   ]
  },
  {
   "cell_type": "code",
   "execution_count": 2,
   "metadata": {},
   "outputs": [
    {
     "name": "stdout",
     "output_type": "stream",
     "text": [
      "asdfghj is not palindrome\n"
     ]
    }
   ],
   "source": [
    "str = input(\"Enter a string : \")\n",
    "if str==str[::-1]:\n",
    "    print(f\"{str} is palindrome\")\n",
    "else:\n",
    "    print(f\"{str} is not palindrome\")"
   ]
  },
  {
   "cell_type": "markdown",
   "metadata": {},
   "source": [
    "### 02) WAP to reverse the words in given string."
   ]
  },
  {
   "cell_type": "code",
   "execution_count": 7,
   "metadata": {},
   "outputs": [
    {
     "name": "stdout",
     "output_type": "stream",
     "text": [
      "cba fed \n"
     ]
    }
   ],
   "source": [
    "str = input(\"Enter a string : \")\n",
    "words = str.split(\" \")\n",
    "str = \"\"\n",
    "for word in words:\n",
    "    str += word[::-1] + \" \"\n",
    "str.replace(\" \",\"\",-1)\n",
    "print(str)"
   ]
  },
  {
   "cell_type": "markdown",
   "metadata": {},
   "source": [
    "### 03) WAP to remove ith character from given string"
   ]
  },
  {
   "cell_type": "code",
   "execution_count": 42,
   "metadata": {},
   "outputs": [
    {
     "data": {
      "text/plain": [
       "'01345'"
      ]
     },
     "execution_count": 42,
     "metadata": {},
     "output_type": "execute_result"
    }
   ],
   "source": [
    "str = input(\"Enter a string : \")\n",
    "i = int(input(\"Enter index : \"))\n",
    "str.replace(str[i],\"\",i)"
   ]
  },
  {
   "cell_type": "markdown",
   "metadata": {},
   "source": [
    "### 04) WAP to find length of String without using len function."
   ]
  },
  {
   "cell_type": "code",
   "execution_count": 49,
   "metadata": {},
   "outputs": [
    {
     "name": "stdout",
     "output_type": "stream",
     "text": [
      "10\n",
      "10\n"
     ]
    }
   ],
   "source": [
    "str = input(\"Enter a string : \")\n",
    "print((str.__sizeof__()-41))\n",
    "length=0\n",
    "for i in str:\n",
    "    length+=1\n",
    "print(length)"
   ]
  },
  {
   "cell_type": "markdown",
   "metadata": {},
   "source": [
    "### 05) WAP to print even length word in string."
   ]
  },
  {
   "cell_type": "code",
   "execution_count": 53,
   "metadata": {},
   "outputs": [
    {
     "name": "stdout",
     "output_type": "stream",
     "text": [
      "12\n",
      "1234\n",
      "123456\n",
      "12345678\n"
     ]
    }
   ],
   "source": [
    "str = input(\"Enter a string : \")\n",
    "words = str.split(\" \")\n",
    "str = \"\"\n",
    "for word in words:\n",
    "    print(word) if len(word) % 2 == 0 else {}"
   ]
  },
  {
   "cell_type": "markdown",
   "metadata": {},
   "source": [
    "### 06) WAP to count numbers of vowels in given string."
   ]
  },
  {
   "cell_type": "code",
   "execution_count": 63,
   "metadata": {},
   "outputs": [
    {
     "name": "stdout",
     "output_type": "stream",
     "text": [
      "4\n"
     ]
    }
   ],
   "source": [
    "str = input(\"Enter a string : \")\n",
    "count = 0\n",
    "for c in str:\n",
    "    count = count + 1 if c == 'a' or c == 'e' or c == 'i' or c == 'o' or c == 'u' else count\n",
    "print(count)"
   ]
  },
  {
   "cell_type": "markdown",
   "metadata": {},
   "source": [
    "### 07) WAP to convert given array to string."
   ]
  },
  {
   "cell_type": "code",
   "execution_count": 65,
   "metadata": {},
   "outputs": [
    {
     "name": "stdout",
     "output_type": "stream",
     "text": [
      " Hi  how  Are  You \n"
     ]
    }
   ],
   "source": [
    "list = [\" Hi \",\" how \",\" Are \",\" You \"]\n",
    "str = \"\"\n",
    "for e in list:\n",
    "    str += e\n",
    "print(str)"
   ]
  },
  {
   "cell_type": "markdown",
   "metadata": {},
   "source": [
    "### 01) WAP to find out duplicate characters in given string."
   ]
  },
  {
   "cell_type": "code",
   "execution_count": 102,
   "metadata": {},
   "outputs": [
    {
     "name": "stdout",
     "output_type": "stream",
     "text": [
      "{'2', '1'}\n"
     ]
    }
   ],
   "source": [
    "str = input(\"Enter a string : \")\n",
    "seta = set()\n",
    "duplicate = set()\n",
    "for c in str:\n",
    "    if seta.__contains__(c):\n",
    "        duplicate.add(c)\n",
    "    else:\n",
    "        seta.add(c)\n",
    "print(duplicate)"
   ]
  },
  {
   "cell_type": "markdown",
   "metadata": {},
   "source": [
    "### 02) WAP to capitalize the first and last character of each word in a string."
   ]
  },
  {
   "cell_type": "code",
   "execution_count": 11,
   "metadata": {},
   "outputs": [
    {
     "name": "stdout",
     "output_type": "stream",
     "text": [
      "HI HellO\n"
     ]
    }
   ],
   "source": [
    "string = input(\"Enter a string : \")\n",
    "words = string.split(\" \")\n",
    "\n",
    "for i in range(0,len(words)):\n",
    "    words[i] = words[i][0].upper() + words[i][1:len(word)-2:] + words[i][-1].upper()\n",
    "print(' '.join(words))"
   ]
  },
  {
   "cell_type": "markdown",
   "metadata": {},
   "source": [
    "### 03) WAP to find Maximum frequency character in String."
   ]
  },
  {
   "cell_type": "code",
   "execution_count": 7,
   "metadata": {},
   "outputs": [
    {
     "name": "stdout",
     "output_type": "stream",
     "text": [
      "['h', 's']\n"
     ]
    }
   ],
   "source": [
    "def countFrequency(l,e):\n",
    "    c = 0\n",
    "    for i in l:\n",
    "        if i == e:\n",
    "            c += 1\n",
    "    return c\n",
    "\n",
    "str1 = input(\"Enter a string : \")\n",
    "d = {}\n",
    "l = []\n",
    "setl1 = set()\n",
    "for i in str1:\n",
    "    setl1.add(i)\n",
    "for i in setl1:\n",
    "    d[i] = countFrequency(str1,i)\n",
    "m = max(d.values())\n",
    "for k,v in d.items():\n",
    "    if v == m:\n",
    "        l.append(k)\n",
    "print(l)"
   ]
  },
  {
   "cell_type": "markdown",
   "metadata": {},
   "source": [
    "### 04) WAP to find Minimum frequency character in String."
   ]
  },
  {
   "cell_type": "code",
   "execution_count": 8,
   "metadata": {},
   "outputs": [
    {
     "name": "stdout",
     "output_type": "stream",
     "text": [
      "['e', 'r', 'a', 'n', 'y']\n"
     ]
    }
   ],
   "source": [
    "def countFrequency(l,e):\n",
    "    c = 0\n",
    "    for i in l:\n",
    "        if i == e:\n",
    "            c += 1\n",
    "    return c\n",
    "\n",
    "str1 = input(\"Enter a string : \")\n",
    "d = {}\n",
    "l = []\n",
    "setl1 = set()\n",
    "for i in str1:\n",
    "    setl1.add(i)\n",
    "for i in setl1:\n",
    "    d[i] = countFrequency(str1,i)\n",
    "m = min(d.values())\n",
    "for k,v in d.items():\n",
    "    if v == m:\n",
    "        l.append(k)\n",
    "print(l)"
   ]
  },
  {
   "cell_type": "markdown",
   "metadata": {},
   "source": [
    "### 05) WAP to check if a given string is binary string or not"
   ]
  },
  {
   "cell_type": "code",
   "execution_count": 17,
   "metadata": {},
   "outputs": [
    {
     "name": "stdout",
     "output_type": "stream",
     "text": [
      "Given string is not binary string\n"
     ]
    }
   ],
   "source": [
    "str1 = input(\"Enter a string : \")\n",
    "isBinaryString = True\n",
    "for i in str1:\n",
    "    if i!='0' and i!='1':\n",
    "        isBinaryString = False\n",
    "        break\n",
    "if isBinaryString:\n",
    "    print(\"Given string is binary string\")\n",
    "else:\n",
    "    print(\"Given string is not binary string\")"
   ]
  }
 ],
 "metadata": {
  "kernelspec": {
   "display_name": "Python 3 (ipykernel)",
   "language": "python",
   "name": "python3"
  },
  "language_info": {
   "codemirror_mode": {
    "name": "ipython",
    "version": 3
   },
   "file_extension": ".py",
   "mimetype": "text/x-python",
   "name": "python",
   "nbconvert_exporter": "python",
   "pygments_lexer": "ipython3",
   "version": "3.12.1"
  },
  "vscode": {
   "interpreter": {
    "hash": "31f2aee4e71d21fbe5cf8b01ff0e069b9275f58929596ceb00d14d90e3e16cd6"
   }
  }
 },
 "nbformat": 4,
 "nbformat_minor": 4
}
