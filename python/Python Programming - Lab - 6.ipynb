{
 "cells": [
  {
   "attachments": {},
   "cell_type": "markdown",
   "metadata": {},
   "source": [
    "<a href='https://www.darshan.ac.in/'> <img src='https://www.darshan.ac.in/Content/media/DU_Logo.svg' width=\"250\" height=\"300\"/></a>\n",
    "<pre>\n",
    "<center><b><h1>Python Programming - 2101CS405</b></center>\n",
    "<center><b><h1>Lab - 6</b></center>    \n",
    "<pre>"
   ]
  },
  {
   "cell_type": "markdown",
   "metadata": {},
   "source": [
    "# Tuples, dictionary, set"
   ]
  },
  {
   "cell_type": "markdown",
   "metadata": {},
   "source": [
    "# A"
   ]
  },
  {
   "cell_type": "markdown",
   "metadata": {},
   "source": [
    "### 01) WAP to sort python dictionary by key or value."
   ]
  },
  {
   "cell_type": "code",
   "execution_count": 4,
   "metadata": {},
   "outputs": [
    {
     "name": "stdout",
     "output_type": "stream",
     "text": [
      "{1: 'z', 2: 'y', 3: 'x', 4: 'b', 5: 'a'}\n",
      "{1: 'a', 3: 'b', 0: 'x', 4: 'y', 2: 'z'}\n"
     ]
    }
   ],
   "source": [
    "d = {3: 'x', 5: 'a', 1: 'z', 4: 'b', 2: 'y'}\n",
    "dSotredByKeys = {}\n",
    "dSotredByValues = {}\n",
    "for i in sorted(d.keys()):\n",
    "    dSotredByKeys[i] = d[i]\n",
    "print(dSotredByKeys)\n",
    "for i in sorted(d.values()):\n",
    "    dSotredByValues[list(d.values()).index(i)] = i\n",
    "print(dSotredByValues)"
   ]
  },
  {
   "cell_type": "markdown",
   "metadata": {},
   "source": [
    "### 02) WAP to merge two dictionaries given by user."
   ]
  },
  {
   "cell_type": "code",
   "execution_count": 7,
   "metadata": {},
   "outputs": [
    {
     "name": "stdout",
     "output_type": "stream",
     "text": [
      "{'a': 1, 'b': 2, 'c': 3, 'd': 4, 'e': 5, 'f': 6}\n"
     ]
    }
   ],
   "source": [
    "d1 = {'a': 1, 'b': 2, 'c': 3}\n",
    "d2 = {'d': 4, 'e': 5, 'f': 6}\n",
    "d3 = {}\n",
    "for k,v in d1.items():\n",
    "    d3[k] = v\n",
    "for k,v in d2.items():\n",
    "    d3[k] = v\n",
    "print(d3)"
   ]
  },
  {
   "cell_type": "markdown",
   "metadata": {},
   "source": [
    "### 03) WAP to find tuples that have all elements divisible by K from a list of tuples."
   ]
  },
  {
   "cell_type": "code",
   "execution_count": 8,
   "metadata": {},
   "outputs": [
    {
     "name": "stdout",
     "output_type": "stream",
     "text": [
      "[(3, 6), (9, 12)]\n"
     ]
    }
   ],
   "source": [
    "l1 = [(1, 2, 3), (4, 5, 6), (7, 8, 9), (3, 6), (9, 12)]\n",
    "l2 = []\n",
    "k = int(input(\"Enter a number : \"))\n",
    "for i in l1:\n",
    "    isDivisibleByK = True\n",
    "    for j in i:\n",
    "        if j%k!=0:\n",
    "            isDivisibleByK = False\n",
    "            break\n",
    "    if isDivisibleByK:\n",
    "        l2.append(i)\n",
    "print(l2)"
   ]
  },
  {
   "cell_type": "markdown",
   "metadata": {},
   "source": [
    "### 04) WAP to find Tuples with positive elements in List of tuples."
   ]
  },
  {
   "cell_type": "code",
   "execution_count": 9,
   "metadata": {},
   "outputs": [
    {
     "name": "stdout",
     "output_type": "stream",
     "text": [
      "[(1, 2, 3), (4, 5, 6), (7, 8, 9)]\n"
     ]
    }
   ],
   "source": [
    "l1 = [(1, 2, 3), (4, 5, 6), (7, 8, 9), (0, -1, -2), (-4, -5, -6), (4, -5, 6)]\n",
    "l2 = []\n",
    "for i in l1:\n",
    "    isDivisibleByK = True\n",
    "    for j in i:\n",
    "        if j<0:\n",
    "            isDivisibleByK = False\n",
    "            break\n",
    "    if isDivisibleByK:\n",
    "        l2.append(i)\n",
    "print(l2)"
   ]
  },
  {
   "cell_type": "markdown",
   "metadata": {},
   "source": [
    "### 05) WAP which perform union of two sets."
   ]
  },
  {
   "cell_type": "code",
   "execution_count": 10,
   "metadata": {},
   "outputs": [
    {
     "name": "stdout",
     "output_type": "stream",
     "text": [
      "{1, 2, 3, 4, 5, 6, 7}\n"
     ]
    }
   ],
   "source": [
    "set1 =  {1, 2, 3, 4, 5}\n",
    "set2 =  {3, 4, 5, 6, 7}\n",
    "set3 = set()\n",
    "for i in set1:\n",
    "    set3.add(i)\n",
    "for i in set2:\n",
    "    set3.add(i)\n",
    "print(set3)"
   ]
  },
  {
   "cell_type": "markdown",
   "metadata": {},
   "source": [
    "# B"
   ]
  },
  {
   "cell_type": "markdown",
   "metadata": {},
   "source": [
    "### 01) WAP to convert binary tuple into integer."
   ]
  },
  {
   "cell_type": "code",
   "execution_count": 22,
   "metadata": {},
   "outputs": [
    {
     "name": "stdout",
     "output_type": "stream",
     "text": [
      "21\n"
     ]
    }
   ],
   "source": [
    "tup1 = (1, 0, 1, 0, 1)\n",
    "num = 0\n",
    "tlen = len(tup1)-1\n",
    "for i in range(tlen,-1,-1):\n",
    "    num+=2**(tlen-i)*tup1[i]\n",
    "print(num)"
   ]
  },
  {
   "cell_type": "markdown",
   "metadata": {},
   "source": [
    "### 02) WAP to count frequency in list by dictionary."
   ]
  },
  {
   "cell_type": "code",
   "execution_count": 27,
   "metadata": {},
   "outputs": [
    {
     "name": "stdout",
     "output_type": "stream",
     "text": [
      "{1: 3, 2: 2, 3: 2, 4: 3, 5: 3, 6: 1}\n"
     ]
    }
   ],
   "source": [
    "def countFrequency(l,e):\n",
    "    c = 0\n",
    "    for i in l:\n",
    "        if i == e:\n",
    "            c += 1\n",
    "    return c\n",
    "\n",
    "l1 = [1, 2, 3, 4, 5, 1, 2, 3, 4, 5, 1, 4, 6, 5]\n",
    "d = {}\n",
    "setl1 = set()\n",
    "for i in l1:\n",
    "    setl1.add(i)\n",
    "for i in setl1:\n",
    "    d[i] = countFrequency(l1,i)\n",
    "print(d)"
   ]
  },
  {
   "cell_type": "markdown",
   "metadata": {},
   "source": [
    "### 03) WAP to remove all the duplicate words from the list using dictionary."
   ]
  },
  {
   "cell_type": "code",
   "execution_count": 31,
   "metadata": {},
   "outputs": [
    {
     "name": "stdout",
     "output_type": "stream",
     "text": [
      "{'orange': 2, 'blue': 2, 'red': 2, 'green': 2, 'yellow': 2, 'violet': 2}\n"
     ]
    }
   ],
   "source": [
    "l1 = ['red', 'orange', 'yellow', 'green', 'blue', 'violet', 'red', 'orange', 'yellow', 'green', 'blue', 'violet']\n",
    "def countFrequency(l,e):\n",
    "    c = 0\n",
    "    for i in l:\n",
    "        if i == e:\n",
    "            c += 1\n",
    "    return c\n",
    "\n",
    "d = {}\n",
    "setl1 = set()\n",
    "for i in l1:\n",
    "    setl1.add(i)\n",
    "for i in setl1:\n",
    "    d[i] = countFrequency(l1,i)\n",
    "print(d)"
   ]
  }
 ],
 "metadata": {
  "kernelspec": {
   "display_name": "Python 3 (ipykernel)",
   "language": "python",
   "name": "python3"
  },
  "language_info": {
   "codemirror_mode": {
    "name": "ipython",
    "version": 3
   },
   "file_extension": ".py",
   "mimetype": "text/x-python",
   "name": "python",
   "nbconvert_exporter": "python",
   "pygments_lexer": "ipython3",
   "version": "3.12.1"
  }
 },
 "nbformat": 4,
 "nbformat_minor": 4
}
