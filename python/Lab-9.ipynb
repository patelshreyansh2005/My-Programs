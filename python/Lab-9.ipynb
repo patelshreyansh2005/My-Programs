{
 "cells": [
  {
   "cell_type": "markdown",
   "metadata": {
    "id": "52JHRp_-GdDJ"
   },
   "source": [
    "<!DOCTYPE html>\n",
    "<html lang=\"en\">\n",
    "\n",
    "<head>\n",
    "    <meta charset=\"UTF-8\">\n",
    "    <meta name=\"viewport\" content=\"width=device-width, initial-scale=1.0\">\n",
    "    <title>Document</title>\n",
    "    <style>\n",
    "        .a{\n",
    "            position: absolute;\n",
    "            animation: ani1 5s linear infinite;\n",
    "        }\n",
    "        @keyframes ani1 {\n",
    "            0%{\n",
    "                left: -40vw;\n",
    "                filter: invert(0);\n",
    "            }\n",
    "            50%{\n",
    "                left: calc(50vw - 250px);\n",
    "                filter: invert(180);\n",
    "            }\n",
    "            100%{\n",
    "                left: -40vw;\n",
    "                filter: invert(0);\n",
    "            }\n",
    "        }\n",
    "    </style>\n",
    "</head>\n",
    "\n",
    "<body>\n",
    "    <center>\n",
    "        <div class=\"a\">\n",
    "            <a href='https://www.darshan.ac.in/'> <img src='https://www.darshan.ac.in/Content/media/DU_Logo.svg' width=\"250\" height=\"300\" /></a>\n",
    "        </div>\n",
    "    </center>\n",
    "    <pre>\n",
    "    <center><b><h1>Python Programming - 2101CS405</b></center>\n",
    "    <center><b><h1>Lab - 9</b></center>    \n",
    "<pre>\n",
    "</body>\n",
    "</html>"
   ]
  },
  {
   "cell_type": "markdown",
   "metadata": {
    "id": "Z4jxwUNYNktt"
   },
   "source": [
    "## Name : : { Shreyansh patel }\n",
    "## Enrollment : : { 22010101147 }\n",
    "## Date : : { 13-02-2024 }"
   ]
  },
  {
   "cell_type": "markdown",
   "metadata": {
    "id": "feilgBDMGdDL"
   },
   "source": [
    "# Exception Handling"
   ]
  },
  {
   "cell_type": "code",
   "execution_count": null,
   "metadata": {
    "colab": {
     "base_uri": "https://localhost:8080/",
     "height": 0
    },
    "executionInfo": {
     "elapsed": 4,
     "status": "ok",
     "timestamp": 1707118749463,
     "user": {
      "displayName": "Javiya Hit",
      "userId": "07658258706577815819"
     },
     "user_tz": -330
    },
    "id": "ehS5dcohMzRH",
    "outputId": "67679087-5140-48ea-ecd4-a1c4b9af70c7"
   },
   "outputs": [],
   "source": [
    "try:\n",
    "    a=5\n",
    "    b=\"3\"\n",
    "    c=a+b\n",
    "except TypeError:\n",
    "    print(\"Invalid Datatype\")\n",
    "else:\n",
    "    print(\"else Block Excuted\")\n",
    "finally:\n",
    "    print(\"finally Block Excuted\")"
   ]
  },
  {
   "cell_type": "markdown",
   "metadata": {
    "id": "puxDNiNsGdDM"
   },
   "source": [
    "# A"
   ]
  },
  {
   "cell_type": "markdown",
   "metadata": {
    "id": "qRlmpUiiGdDM"
   },
   "source": [
    "### 01) WAP to handle divide by zero exception."
   ]
  },
  {
   "cell_type": "code",
   "execution_count": null,
   "metadata": {
    "id": "NwAA8LBCGdDM",
    "outputId": "fa491513-c144-49e5-c2b4-27ae3ce411c0"
   },
   "outputs": [],
   "source": [
    "n1 = input(\"Enter number 1 : \")\n",
    "n2 = input(\"Enter number 2 : \")\n",
    "\n",
    "try:\n",
    "    print(f\"{int(n1) / int(n2)}\")\n",
    "except ZeroDivisionError:\n",
    "    print(\"number 2 is zero\")\n",
    "    "
   ]
  },
  {
   "cell_type": "markdown",
   "metadata": {
    "id": "fXwKts6XGdDN"
   },
   "source": [
    "### 02)  Write a Python program that inputs a number and generates an error message if it is not a number."
   ]
  },
  {
   "cell_type": "code",
   "execution_count": null,
   "metadata": {
    "id": "g5sCw_iQGdDN",
    "outputId": "4a2e4988-5857-4da5-d7fd-e71d6baaaf92"
   },
   "outputs": [],
   "source": [
    "n = input(\"Enter a number : \")\n",
    "try:\n",
    "    int(n)\n",
    "except ValueError:\n",
    "    print(f\"{n} is not a number\")"
   ]
  },
  {
   "cell_type": "markdown",
   "metadata": {
    "id": "agiEJvAlGdDN"
   },
   "source": [
    "### 03) WAP to handle file not found Exception"
   ]
  },
  {
   "cell_type": "code",
   "execution_count": null,
   "metadata": {
    "id": "sgPKlL3bGdDO",
    "outputId": "a30c6807-b299-4e0b-891a-0ddc35dd646b"
   },
   "outputs": [],
   "source": [
    "try:\n",
    "    f = open(\"assa.txt\",\"r\")\n",
    "    f.close()\n",
    "except FileNotFoundError:\n",
    "    print(\"File not found\")"
   ]
  },
  {
   "cell_type": "markdown",
   "metadata": {
    "id": "vaDESoM3GdDO"
   },
   "source": [
    "### 04) WAP to handle type Exception."
   ]
  },
  {
   "cell_type": "code",
   "execution_count": null,
   "metadata": {
    "id": "zJHbz1ZMGdDO",
    "outputId": "d16634b4-3a26-4977-8f00-7c1305ae727d"
   },
   "outputs": [],
   "source": [
    "try:\n",
    "    a = 10\n",
    "    b = \"20\"\n",
    "    print(f\"{a+b}\")\n",
    "except TypeError:\n",
    "    print(\"Invalid type\")"
   ]
  },
  {
   "cell_type": "markdown",
   "metadata": {
    "id": "K2Uz2P0WGdDO"
   },
   "source": [
    "### 05) WAP to demonstrate valueError and indexError with example."
   ]
  },
  {
   "cell_type": "code",
   "execution_count": null,
   "metadata": {
    "colab": {
     "base_uri": "https://localhost:8080/"
    },
    "executionInfo": {
     "elapsed": 3419,
     "status": "ok",
     "timestamp": 1707117118034,
     "user": {
      "displayName": "Javiya Hit",
      "userId": "07658258706577815819"
     },
     "user_tz": -330
    },
    "id": "vOr_lTjcGdDO",
    "outputId": "e0a32d09-28c4-487f-d105-4db030b7a1ed"
   },
   "outputs": [],
   "source": [
    "l1 = [1, 2, 3, 4, 5]\n",
    "try:\n",
    "    n = int(input(\"Enter a number : \"))\n",
    "    print(f\"{l1[n]}\")\n",
    "except ValueError:\n",
    "    print(\"number is not valid\")\n",
    "except IndexError:\n",
    "    print(\"list index out of bound\")"
   ]
  },
  {
   "cell_type": "markdown",
   "metadata": {
    "id": "DPCOrdbRGdDP"
   },
   "source": [
    "### 06) WAP to domonstrate else  and finally block."
   ]
  },
  {
   "cell_type": "code",
   "execution_count": null,
   "metadata": {
    "colab": {
     "base_uri": "https://localhost:8080/"
    },
    "executionInfo": {
     "elapsed": 4033,
     "status": "ok",
     "timestamp": 1707117243257,
     "user": {
      "displayName": "Javiya Hit",
      "userId": "07658258706577815819"
     },
     "user_tz": -330
    },
    "id": "Dr7POR__GdDP",
    "outputId": "ed07075b-35a3-42d5-a18b-5e3e66409303"
   },
   "outputs": [],
   "source": [
    "l1 = [1, 2, 3, 4, 5]\n",
    "try:\n",
    "    n = int(input(\"Enter a number : \"))\n",
    "    l1[n]\n",
    "except ValueError:\n",
    "    print(\"number is not valid\")\n",
    "except IndexError:\n",
    "    print(\"list index out of bound\")\n",
    "else:\n",
    "    print(f\"{l1[n]}\")\n",
    "finally:\n",
    "    print(\"Have a good day\")"
   ]
  },
  {
   "cell_type": "markdown",
   "metadata": {
    "id": "ZxtPT9-TGdDP"
   },
   "source": [
    "### 07) Create a short program that prompts the user for a list of grades separated by commas. Split the string into individual grades and use a list comprehension to convert each string to an integer. You should use a try statement to inform the user when the values they entered cannot be converted."
   ]
  },
  {
   "cell_type": "code",
   "execution_count": null,
   "metadata": {
    "colab": {
     "base_uri": "https://localhost:8080/"
    },
    "executionInfo": {
     "elapsed": 18538,
     "status": "ok",
     "timestamp": 1707117299649,
     "user": {
      "displayName": "Javiya Hit",
      "userId": "07658258706577815819"
     },
     "user_tz": -330
    },
    "id": "JzIjDs5iGdDP",
    "outputId": "481080a7-2e2c-4e26-cdfe-f789e2aff399"
   },
   "outputs": [],
   "source": [
    "s = input(\"Enter a list : \")\n",
    "s = s.split(\",\")\n",
    "\n",
    "try:\n",
    "    s = [int(i) for i in s]\n",
    "except:\n",
    "    print(\"Invalid list\")"
   ]
  },
  {
   "cell_type": "markdown",
   "metadata": {
    "id": "BcuR_xwaGdDP"
   },
   "source": [
    "# B"
   ]
  },
  {
   "cell_type": "markdown",
   "metadata": {
    "id": "VyTt1sHSGdDQ"
   },
   "source": [
    "### 01) WAP to Raising User Generated Exception."
   ]
  },
  {
   "cell_type": "code",
   "execution_count": 11,
   "metadata": {
    "colab": {
     "base_uri": "https://localhost:8080/"
    },
    "executionInfo": {
     "elapsed": 3369,
     "status": "ok",
     "timestamp": 1707117687778,
     "user": {
      "displayName": "Javiya Hit",
      "userId": "07658258706577815819"
     },
     "user_tz": -330
    },
    "id": "yabp2M2mGdDQ",
    "outputId": "8111c420-c2f0-483c-ae5a-84d4351bcf61"
   },
   "outputs": [
    {
     "ename": "ZeroDivisionError",
     "evalue": "Do not divide with zero",
     "output_type": "error",
     "traceback": [
      "\u001b[1;31m---------------------------------------------------------------------------\u001b[0m",
      "\u001b[1;31mZeroDivisionError\u001b[0m                         Traceback (most recent call last)",
      "Cell \u001b[1;32mIn[11], line 4\u001b[0m\n\u001b[0;32m      2\u001b[0m n2 \u001b[38;5;241m=\u001b[39m \u001b[38;5;28mint\u001b[39m(\u001b[38;5;28minput\u001b[39m(\u001b[38;5;124m\"\u001b[39m\u001b[38;5;124mEnter number 2 : \u001b[39m\u001b[38;5;124m\"\u001b[39m))\n\u001b[0;32m      3\u001b[0m \u001b[38;5;28;01mif\u001b[39;00m(n2 \u001b[38;5;241m==\u001b[39m \u001b[38;5;241m0\u001b[39m):\n\u001b[1;32m----> 4\u001b[0m     \u001b[38;5;28;01mraise\u001b[39;00m \u001b[38;5;167;01mZeroDivisionError\u001b[39;00m(\u001b[38;5;124m\"\u001b[39m\u001b[38;5;124mDo not divide with zero\u001b[39m\u001b[38;5;124m\"\u001b[39m)\n\u001b[0;32m      5\u001b[0m \u001b[38;5;28;01melse\u001b[39;00m:\n\u001b[0;32m      6\u001b[0m     \u001b[38;5;28mprint\u001b[39m(\u001b[38;5;124mf\u001b[39m\u001b[38;5;124m\"\u001b[39m\u001b[38;5;132;01m{\u001b[39;00mn1\u001b[38;5;250m \u001b[39m\u001b[38;5;241m/\u001b[39m\u001b[38;5;250m \u001b[39mn2\u001b[38;5;132;01m}\u001b[39;00m\u001b[38;5;124m\"\u001b[39m)\n",
      "\u001b[1;31mZeroDivisionError\u001b[0m: Do not divide with zero"
     ]
    }
   ],
   "source": [
    "n1 = int(input(\"Enter number 1 : \"))\n",
    "n2 = int(input(\"Enter number 2 : \"))\n",
    "if(n2 == 0):\n",
    "    raise ZeroDivisionError(\"Do not divide with zero\")\n",
    "else:\n",
    "    print(f\"{n1 / n2}\")"
   ]
  },
  {
   "cell_type": "markdown",
   "metadata": {
    "id": "atC7pAz3GdDQ"
   },
   "source": [
    "### 02) WAP to raise your custom Exception."
   ]
  },
  {
   "cell_type": "code",
   "execution_count": 12,
   "metadata": {
    "colab": {
     "base_uri": "https://localhost:8080/"
    },
    "executionInfo": {
     "elapsed": 3541,
     "status": "ok",
     "timestamp": 1707118532669,
     "user": {
      "displayName": "Javiya Hit",
      "userId": "07658258706577815819"
     },
     "user_tz": -330
    },
    "id": "Ug8Lm4lKGdDQ",
    "outputId": "4bccde70-6e5c-440e-f301-6595425826cb"
   },
   "outputs": [
    {
     "name": "stdout",
     "output_type": "stream",
     "text": [
      "Do not divide with zero\n"
     ]
    },
    {
     "ename": "MyException",
     "evalue": "Do not divide with zero",
     "output_type": "error",
     "traceback": [
      "\u001b[1;31m---------------------------------------------------------------------------\u001b[0m",
      "\u001b[1;31mMyException\u001b[0m                               Traceback (most recent call last)",
      "Cell \u001b[1;32mIn[12], line 8\u001b[0m\n\u001b[0;32m      6\u001b[0m n2 \u001b[38;5;241m=\u001b[39m \u001b[38;5;28mint\u001b[39m(\u001b[38;5;28minput\u001b[39m(\u001b[38;5;124m\"\u001b[39m\u001b[38;5;124mEnter number 2 : \u001b[39m\u001b[38;5;124m\"\u001b[39m))\n\u001b[0;32m      7\u001b[0m \u001b[38;5;28;01mif\u001b[39;00m(n2 \u001b[38;5;241m==\u001b[39m \u001b[38;5;241m0\u001b[39m):\n\u001b[1;32m----> 8\u001b[0m     \u001b[38;5;28;01mraise\u001b[39;00m MyException(\u001b[38;5;124m\"\u001b[39m\u001b[38;5;124mDo not divide with zero\u001b[39m\u001b[38;5;124m\"\u001b[39m)\n\u001b[0;32m      9\u001b[0m \u001b[38;5;28;01melse\u001b[39;00m:\n\u001b[0;32m     10\u001b[0m     \u001b[38;5;28mprint\u001b[39m(\u001b[38;5;124mf\u001b[39m\u001b[38;5;124m\"\u001b[39m\u001b[38;5;132;01m{\u001b[39;00mn1\u001b[38;5;250m \u001b[39m\u001b[38;5;241m/\u001b[39m\u001b[38;5;250m \u001b[39mn2\u001b[38;5;132;01m}\u001b[39;00m\u001b[38;5;124m\"\u001b[39m)\n",
      "\u001b[1;31mMyException\u001b[0m: Do not divide with zero"
     ]
    }
   ],
   "source": [
    "class MyException(Exception):\n",
    "    def __init__(self, message):\n",
    "        print(message)\n",
    "\n",
    "n1 = int(input(\"Enter number 1 : \"))\n",
    "n2 = int(input(\"Enter number 2 : \"))\n",
    "if(n2 == 0):\n",
    "    raise MyException(\"Do not divide with zero\")\n",
    "else:\n",
    "    print(f\"{n1 / n2}\")"
   ]
  }
 ],
 "metadata": {
  "colab": {
   "provenance": [
    {
     "file_id": "1etOeaeFahen83DZIeSj6S93BiowaXT7m",
     "timestamp": 1707118567055
    }
   ]
  },
  "kernelspec": {
   "display_name": "Python 3 (ipykernel)",
   "language": "python",
   "name": "python3"
  },
  "language_info": {
   "codemirror_mode": {
    "name": "ipython",
    "version": 3
   },
   "file_extension": ".py",
   "mimetype": "text/x-python",
   "name": "python",
   "nbconvert_exporter": "python",
   "pygments_lexer": "ipython3",
   "version": "3.12.1"
  },
  "vscode": {
   "interpreter": {
    "hash": "5238573367df39f7286bb46f9ff5f08f63a01a80960060ce41e3c79b190280fa"
   }
  }
 },
 "nbformat": 4,
 "nbformat_minor": 4
}
